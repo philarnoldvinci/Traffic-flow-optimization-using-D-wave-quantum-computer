{
 "cells": [
  {
   "cell_type": "code",
   "execution_count": null,
   "metadata": {},
   "outputs": [],
   "source": [
    "%pip install dwave-system==1.18.0\n",
    "%pip install dwave-system[drivers] --extra-index-url https://pypi.dwavesys.com/simple\n",
    "%pip install dimod==0.11.0\n",
    "%pip install dwave_qbsolv\n",
    "\n",
    "%pip install dwave-ocean-sdk>=6.3.0\n",
    "%pip install mip==1.13.0\n",
    "%pip install plotly==5.6.0\n",
    "%pip install streamlit==1.9.2\n",
    "%pip install tabulate==0.8.9"
   ]
  },
  {
   "cell_type": "code",
   "execution_count": null,
   "metadata": {},
   "outputs": [],
   "source": [
    "import os\n",
    "import time\n",
    "\n",
    "from dwave_qbsolv import QBSolv\n",
    "from dwave.system import DWaveSampler\n",
    "import dimod\n",
    "import hybrid\n"
   ]
  },
  {
   "cell_type": "code",
   "execution_count": null,
   "metadata": {},
   "outputs": [],
   "source": [
    "# Get D-Wave token\n",
    "TOKEN = os.environ['DWAVE_APITOKEN']\n",
    "\n",
    "# Problem spec\n",
    "CARS = 5\n",
    "ROUTES = 3\n",
    "STREETS = None"
   ]
  },
  {
   "cell_type": "code",
   "execution_count": 9,
   "metadata": {},
   "outputs": [
    {
     "data": {
      "text/plain": [
       "['q00',\n",
       " 'q01',\n",
       " 'q02',\n",
       " 'q10',\n",
       " 'q11',\n",
       " 'q12',\n",
       " 'q20',\n",
       " 'q21',\n",
       " 'q22',\n",
       " 'q30',\n",
       " 'q31',\n",
       " 'q32',\n",
       " 'q40',\n",
       " 'q41',\n",
       " 'q42']"
      ]
     },
     "execution_count": 9,
     "metadata": {},
     "output_type": "execute_result"
    }
   ],
   "source": [
    "# classmethod BinaryQuadraticModel.from_qubo(Q: Mapping, offset: float = 0)\n",
    "#     Q – Coefficients of a quadratic unconstrained binary optimization (QUBO) problem \n",
    "#         as a dict of form {(u, v): bias, ...}, where u, v, are binary-valued variables \n",
    "#         and bias is their associated coefficient.\n",
    "#\n",
    "#     offset (optional, default=0.0) – Constant offset applied to the model.\n",
    "\n",
    "# QUBO\n",
    "#   q_ij: car i takes route (= a list of segments) j\n",
    "\n",
    "def make_cars_variables():\n",
    "        cars_variables = []\n",
    "\n",
    "        for i in range(CARS):\n",
    "            for j in range(ROUTES):\n",
    "                cars_variables.append(f'q{i}{j}')\n",
    "        return cars_variables\n",
    "\n",
    "cars_var = make_cars_variables()\n",
    "cars_var\n",
    "\n"
   ]
  },
  {
   "cell_type": "code",
   "execution_count": null,
   "metadata": {},
   "outputs": [],
   "source": []
  }
 ],
 "metadata": {
  "kernelspec": {
   "display_name": "Python 3",
   "language": "python",
   "name": "python3"
  },
  "language_info": {
   "codemirror_mode": {
    "name": "ipython",
    "version": 3
   },
   "file_extension": ".py",
   "mimetype": "text/x-python",
   "name": "python",
   "nbconvert_exporter": "python",
   "pygments_lexer": "ipython3",
   "version": "3.10.4"
  },
  "orig_nbformat": 4
 },
 "nbformat": 4,
 "nbformat_minor": 2
}
