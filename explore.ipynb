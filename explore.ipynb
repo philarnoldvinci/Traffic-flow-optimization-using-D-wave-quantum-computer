{
 "cells": [
  {
   "cell_type": "code",
   "execution_count": null,
   "metadata": {},
   "outputs": [],
   "source": [
    "!pip install dwave-system==1.18.0\n",
    "!pip install dwave-system[drivers] --extra-index-url https://pypi.dwavesys.com/simple\n",
    "!pip install dimod==0.11.0\n",
    "!pip install dwave_qbsolv\n",
    "\n",
    "!pip install dwave-ocean-sdk>=6.3.0\n",
    "!pip install mip==1.13.0\n",
    "!pip install plotly==5.6.0\n",
    "!pip install streamlit==1.9.2\n",
    "!pip install tabulate==0.8.9"
   ]
  },
  {
   "cell_type": "code",
   "execution_count": 2,
   "metadata": {},
   "outputs": [],
   "source": [
    "from dwave_qbsolv import QBSolv\n",
    "from dwave.system import DWaveSampler\n",
    "import dimod\n",
    "import hybrid\n",
    "import time"
   ]
  },
  {
   "cell_type": "code",
   "execution_count": null,
   "metadata": {},
   "outputs": [],
   "source": []
  }
 ],
 "metadata": {
  "kernelspec": {
   "display_name": "Python 3",
   "language": "python",
   "name": "python3"
  },
  "language_info": {
   "codemirror_mode": {
    "name": "ipython",
    "version": 3
   },
   "file_extension": ".py",
   "mimetype": "text/x-python",
   "name": "python",
   "nbconvert_exporter": "python",
   "pygments_lexer": "ipython3",
   "version": "3.10.4"
  },
  "orig_nbformat": 4
 },
 "nbformat": 4,
 "nbformat_minor": 2
}
