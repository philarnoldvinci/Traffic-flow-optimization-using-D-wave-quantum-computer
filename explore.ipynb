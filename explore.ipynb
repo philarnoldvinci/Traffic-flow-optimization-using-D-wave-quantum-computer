{
 "cells": [
  {
   "cell_type": "code",
   "execution_count": null,
   "metadata": {},
   "outputs": [],
   "source": [
    "%pip install dwave-system==1.18.0\n",
    "%pip install dwave-system[drivers] --extra-index-url https://pypi.dwavesys.com/simple\n",
    "%pip install dimod==0.11.0\n",
    "%pip install dwave_qbsolv\n",
    "\n",
    "%pip install dwave-ocean-sdk>=6.3.0\n",
    "%pip install mip==1.13.0\n",
    "%pip install plotly==5.6.0\n",
    "%pip install streamlit==1.9.2\n",
    "%pip install tabulate==0.8.9"
   ]
  },
  {
   "cell_type": "code",
   "execution_count": null,
   "metadata": {},
   "outputs": [],
   "source": [
    "import os\n",
    "import time\n",
    "import random\n",
    "\n",
    "\n",
    "import networkx as nx\n",
    "import matplotlib.pyplot as plt\n",
    "\n",
    "from dwave_qbsolv import QBSolv\n",
    "from dwave.system import DWaveSampler\n",
    "import dimod\n",
    "import hybrid\n",
    "\n",
    "import MapGraph\n"
   ]
  },
  {
   "cell_type": "code",
   "execution_count": null,
   "metadata": {},
   "outputs": [],
   "source": [
    "# Get D-Wave token\n",
    "TOKEN = os.environ['DWAVE_APITOKEN']\n",
    "\n",
    "# Problem spec\n",
    "N_CARS = 5\n",
    "N_ROUTES = 3\n",
    "ROUTES = []  \n",
    "STREETS = None"
   ]
  },
  {
   "cell_type": "code",
   "execution_count": null,
   "metadata": {},
   "outputs": [],
   "source": [
    "# Create graph | street \n",
    "G_ROW = 4\n",
    "G_COLUMN = 5 \n",
    "\n",
    "G = MapGraph.make_graph(G_ROW, G_COLUMN)\n",
    "MapGraph.add_traffic_weight(G)\n",
    "MapGraph.add_time_travel(G)\n",
    "\n",
    "pos = nx.spring_layout(G)\n",
    "nx.draw_networkx(G, pos, with_labels=True)\n",
    "plt.show()"
   ]
  },
  {
   "cell_type": "code",
   "execution_count": null,
   "metadata": {},
   "outputs": [],
   "source": [
    "# Assign random origin and destination to each car\n",
    "origin_cars = [random.randint(0, G_COLUMN*G_ROW-1) for x in range(N_CARS)]\n",
    "dest_cars = [random.randint(0, G_COLUMN*G_ROW-1) for x in range(N_CARS)]\n",
    "\n",
    "\n",
    "# Three (diverse?) routes for each car\n",
    "routes = []\n",
    "\n",
    "for n_cars in range(N_CARS):\n",
    "    paths = MapGraph.find_tre_shortest_paths(G, \n",
    "                                             origin_cars[n_cars], \n",
    "                                             dest_cars[n_cars], \n",
    "                                             overlap=5, \n",
    "                                             weight=\"time travel\")\n",
    "    for j in range(N_ROUTES):\n",
    "        routes.append(paths[j])"
   ]
  },
  {
   "cell_type": "code",
   "execution_count": null,
   "metadata": {},
   "outputs": [],
   "source": [
    "\n",
    "# MapGraph.print_map_graph_details(G)\n",
    "\n",
    "origin_node = 3\n",
    "destination_node = 13\n",
    "\n",
    "# Three shortes paths from origin to destination\n",
    "paths = MapGraph.find_tre_shortest_paths(G, origin_node, destination_node, overlap=5, weight=\"time travel\")\n",
    "path_edges = MapGraph.paths_edges(paths)\n",
    "path_edges"
   ]
  },
  {
   "cell_type": "code",
   "execution_count": null,
   "metadata": {},
   "outputs": [],
   "source": [
    "streets = G.edges()\n",
    "routs_A_B = path_edges"
   ]
  },
  {
   "cell_type": "code",
   "execution_count": null,
   "metadata": {},
   "outputs": [],
   "source": []
  },
  {
   "cell_type": "code",
   "execution_count": null,
   "metadata": {},
   "outputs": [],
   "source": [
    "# classmethod BinaryQuadraticModel.from_qubo(Q: Mapping, offset: float = 0)\n",
    "#     Q – Coefficients of a quadratic unconstrained binary optimization (QUBO) problem \n",
    "#         as a dict of form {(u, v): bias, ...}, where u, v, are binary-valued variables \n",
    "#         and bias is their associated coefficient.\n",
    "#\n",
    "#     offset (optional, default=0.0) – Constant offset applied to the model.\n",
    "\n",
    "# QUBO\n",
    "#   q_ij: car i takes route (= a list of segments) j\n",
    "\n",
    "def create_cars_variables(n_cars: int, routes: list):\n",
    "        cars_variables = []\n",
    "\n",
    "        for i in range(n_cars):\n",
    "                for j in range(len(routes)):\n",
    "                        cars_variables.append(f'q{i}{j}')\n",
    "        return cars_variables\n",
    "\n",
    "def create_routes_variables(cars_variables: list[str], routes: list, n_routes: int = 3):\n",
    "        cars_routes = {}\n",
    "\n",
    "        # Fill routes for car in a cyclic fashion (modulo N_ROUTES = 3)\n",
    "        for i in range(len(cars_variables)):\n",
    "                cars_routes[cars_variables[i]] = routes[route_index]\n",
    "\n",
    "\n",
    "cars_vars = create_cars_variables(N_CARS, ROUTES)\n",
    "\n",
    "cars_routes = create_routes_variables(cars_vars, routes, N_ROUTES)\n",
    "\n",
    "\n"
   ]
  },
  {
   "cell_type": "code",
   "execution_count": null,
   "metadata": {},
   "outputs": [],
   "source": []
  }
 ],
 "metadata": {
  "kernelspec": {
   "display_name": "Python 3",
   "language": "python",
   "name": "python3"
  },
  "language_info": {
   "codemirror_mode": {
    "name": "ipython",
    "version": 3
   },
   "file_extension": ".py",
   "mimetype": "text/x-python",
   "name": "python",
   "nbconvert_exporter": "python",
   "pygments_lexer": "ipython3",
   "version": "3.10.4"
  },
  "orig_nbformat": 4
 },
 "nbformat": 4,
 "nbformat_minor": 2
}
